{
  "nbformat": 4,
  "nbformat_minor": 0,
  "metadata": {
    "colab": {
      "provenance": []
    },
    "kernelspec": {
      "name": "python3",
      "display_name": "Python 3"
    },
    "language_info": {
      "name": "python"
    }
  },
  "cells": [
    {
      "cell_type": "markdown",
      "source": [
        "# ASSIGNMENT 3 - PSA\n",
        "### Mansi Upadhyay"
      ],
      "metadata": {
        "id": "tCBPU_c5MWcO"
      }
    },
    {
      "cell_type": "markdown",
      "source": [
        "### **Q1- Problem Statement**\n",
        "\n",
        "You are in charge of optimizing the delivery of goods in a transportation network. The network consists of multiple nodes and directed edges, where each edge represents a road or route for transporting goods. Your goal is to find the maximum flow of goods that can be delivered from the source node to the destination node while minimizing the cost of transportation. Additionally, you need to identify the set of edges forming the minimum cut-set that limits the flow."
      ],
      "metadata": {
        "id": "NBOQ_hOHMaaG"
      }
    },
    {
      "cell_type": "markdown",
      "source": [
        "**Input**\n",
        "\n",
        "Your input will consist of the following:\n",
        "\n",
        "An integer n (2 ≤ n ≤ 100), representing the number of nodes in the network.\n",
        "An integer m (1 ≤ m ≤ 500), representing the number of edges in the network.\n",
        "m lines, each containing four integers: u, v, c, and w (1 ≤ u, v ≤ n, 1 ≤ c ≤ 1000, 1 ≤ w ≤ 100), representing an edge from node u to node v with a capacity of c and a transportation cost of w.\n",
        "The source node is node 1, and the destination node is node n."
      ],
      "metadata": {
        "id": "Ng8jMpVNMzgg"
      }
    },
    {
      "cell_type": "markdown",
      "source": [
        "**Output**\n",
        "\n",
        "Your task is to output two pieces of information:\n",
        "\n",
        "The maximum flow of goods from the source node to the destination node.\n",
        "The set of edges forming the minimum cut-set in the network.\n",
        "The minimum cut-set should be represented as a list of edges, where each edge is a tuple of the form (u, v)."
      ],
      "metadata": {
        "id": "CW-IhJpQM2Ph"
      }
    },
    {
      "cell_type": "markdown",
      "source": [
        "**Sample Input**\n",
        "\n",
        "\n",
        "6\n",
        "\n",
        "7\n",
        "\n",
        "1 2 10 3\n",
        "\n",
        "1 3 15 2\n",
        "\n",
        "2 3 12 5\n",
        "\n",
        "2 4 10 1\n",
        "\n",
        "3 4 8 4\n",
        "\n",
        "3 5 6 7\n",
        "\n",
        "4 5 10 6"
      ],
      "metadata": {
        "id": "keO-aTf9M5gL"
      }
    },
    {
      "cell_type": "markdown",
      "source": [
        "**Sample Output**\n",
        "\n",
        "css\n",
        "\n",
        "23\n",
        "\n",
        "[(1, 2), (3, 5)]"
      ],
      "metadata": {
        "id": "fdUpcEgzM_Vl"
      }
    },
    {
      "cell_type": "markdown",
      "source": [
        "\n",
        "\n",
        "**Solution and Justification**\n",
        "\n",
        "To solve this problem, we can use the Ford-Fulkerson algorithm with the Edmonds-Karp modification to find the maximum flow and identify the minimum cut-set. Here's a step-by-step explanation of the algorithm:\n",
        "\n",
        "1. Initialize the flow on all edges to 0.\n",
        "\n",
        "2. While there exists an augmenting path from the source to the destination (you can use BFS for this), do the following:\n",
        "\n",
        "   a. Find the minimum capacity `c_min` along the augmenting path.\n",
        "\n",
        "   b. For each edge in the augmenting path, increase the flow by `c_min` and decrease the capacity by `c_min`.\n",
        "\n",
        "3. After the algorithm finishes, you have the maximum flow from the source to the destination.\n",
        "\n",
        "4. To find the minimum cut-set, you can perform a depth-first search (DFS) from the source node to identify all nodes reachable from the source. All edges that go from a reachable node to an unreachable node in the original graph form the minimum cut-set.\n",
        "\n",
        "**Pseudocode for Finding Maximum Flow and Minimum Cut-Set**\n",
        "\n",
        "\n",
        "\n",
        "\n"
      ],
      "metadata": {
        "id": "WUhFimfONJEF"
      }
    },
    {
      "cell_type": "code",
      "source": [
        "\n",
        "def find_maximum_flow_and_minimum_cut(graph, source, destination):\n",
        "    max_flow = 0\n",
        "    while True:\n",
        "        # Find an augmenting path using BFS\n",
        "        parent, bottleneck = bfs(graph, source, destination)\n",
        "        if parent[destination] is None:\n",
        "            break  # No augmenting path found, exit loop\n",
        "\n",
        "        max_flow += bottleneck  # Increase the maximum flow\n",
        "\n",
        "        # Update the residual graph\n",
        "        v = destination\n",
        "        while v != source:\n",
        "            u = parent[v]\n",
        "            graph[u][v] -= bottleneck\n",
        "            if u not in graph:\n",
        "                graph[u] = {}\n",
        "            if v not in graph[u]:\n",
        "                graph[u][v] = 0\n",
        "            graph[v][u] += bottleneck\n",
        "            v = u\n",
        "\n",
        "    # Find the minimum cut-set using DFS\n",
        "    reachable = set()\n",
        "    stack = [source]\n",
        "    while stack:\n",
        "        node = stack.pop()\n",
        "        reachable.add(node)\n",
        "        for neighbor in graph.get(node, {}):\n",
        "            if neighbor not in reachable:\n",
        "                stack.append(neighbor)\n",
        "\n",
        "    # Find edges in the minimum cut-set\n",
        "    min_cut_set = []\n",
        "    for u in reachable:\n",
        "        for v in graph.get(u, {}):\n",
        "            if v not in reachable:\n",
        "                min_cut_set.append((u, v))\n",
        "\n",
        "    return max_flow, min_cut_set"
      ],
      "metadata": {
        "id": "jACzmXXWNWXs"
      },
      "execution_count": 2,
      "outputs": []
    },
    {
      "cell_type": "markdown",
      "source": [
        "**Proof of Correctness**\n",
        "\n",
        "The Ford-Fulkerson algorithm is guaranteed to terminate, and it finds the maximum flow. The augmenting paths ensure that the flow is increased iteratively until no more augmenting paths are available, indicating the maximum flow.\n",
        "\n",
        "To find the minimum cut-set, we use a simple DFS to identify all nodes reachable from the source. All edges from reachable nodes to non-reachable nodes form the minimum cut-set.\n",
        "\n",
        "**Reflection**\n",
        "\n",
        "Designing this problem was an interesting exercise because it combines graph theory, network flow, and the concept of minimum cut-sets. It allowed us to explore algorithms like Ford-Fulkerson and BFS for finding augmenting paths.\n",
        "\n",
        "Using ChatGPT to create this problem helped in generating a clear problem statement and designing a solution. The challenge was in ensuring that the problem maintained the spirit of the sample problem while introducing some variations. It was important to create a problem that is non-trivial and not a mere replication of the sample.\n",
        "\n",
        "Through this process, I learned the importance of clear problem statements and well-defined inputs and outputs. I also gained a deeper understanding of network flow algorithms and their applications in solving real-world problems."
      ],
      "metadata": {
        "id": "bTU3YNh6NbXz"
      }
    },
    {
      "cell_type": "markdown",
      "source": [
        "### **Q2- Problem Statement**\n",
        "\n",
        "In a weighted directed graph, you must use the Bellman-Ford technique to identify the shortest path from a source node to a destination node. Your goal is to determine the length of the shortest path, and you should identify any negative-weight cycles in the graph.\n",
        "\n",
        "\n"
      ],
      "metadata": {
        "id": "pjef0vmDNlmP"
      }
    },
    {
      "cell_type": "code",
      "source": [
        "   3     1     3\n",
        "A ---> B ---> C ---> E\n",
        " \\   / \\   / \\     |\n",
        "  8     4     5     |\n",
        "   \\___|___/      |\n",
        "      D -----------|\n",
        "       \\     7\n",
        "        3 \\___\n",
        "             \\___ F\n"
      ],
      "metadata": {
        "id": "uhqc4tQOYKHd"
      },
      "execution_count": null,
      "outputs": []
    },
    {
      "cell_type": "markdown",
      "source": [
        "A --3--> B\n",
        "\n",
        "A --8--> D\n",
        "\n",
        "B --1--> C\n",
        "\n",
        "C --2--> E\n",
        "\n",
        "D --4--> B\n",
        "\n",
        "D ---5--> C\n",
        "\n",
        "D ---7--> E\n",
        "\n",
        "E ---3--> F\n",
        "\n",
        "F ---3--> A\n"
      ],
      "metadata": {
        "id": "n1BP_d-tXyMC"
      }
    },
    {
      "cell_type": "markdown",
      "source": [
        "**Input**\n",
        "\n",
        "Your input will consist of the following:\n",
        "\n",
        "An integer n (2 ≤ n ≤ 100), representing the number of nodes in the graph.\n",
        "An integer m (1 ≤ m ≤ 500), representing the number of directed edges in the graph.\n",
        "m lines, each containing three integers: u, v, and w (1 ≤ u, v ≤ n, -100 ≤ w ≤ 100), representing a directed edge from node u to node v with a weight of w.\n",
        "You need to find the shortest path from node 1 to node n.\n",
        "\n",
        "\n",
        "\n",
        "**Output**\n",
        "\n",
        "Your objective is to generate two bits of data:\n",
        "\n",
        "The length of the shortest path between nodes 1 and n. If no path exists, return \"INF\" (infinity).\n",
        "If the graph contains a negative-weight cycle, output \"negative cycle\"; else, output \"no negative cycle.\""
      ],
      "metadata": {
        "id": "w-FoS3NMXv8P"
      }
    },
    {
      "cell_type": "markdown",
      "source": [
        "**Sample Input**\n",
        "\n",
        "\n",
        "6\n",
        "\n",
        "8\n",
        "\n",
        "1 2 3\n",
        "\n",
        "2 3 -2\n",
        "\n",
        "3 4 4\n",
        "\n",
        "4 1 -8\n",
        "\n",
        "2 4 1\n",
        "\n",
        "4 5 2\n",
        "\n",
        "5 6 3\n",
        "\n",
        "6 3 -3\n",
        "\n",
        "\n",
        "**Sample Output**\n",
        "\n",
        "-sql-\n",
        "\n",
        "0\n",
        "negative cycle"
      ],
      "metadata": {
        "id": "CArkdCryOZck"
      }
    },
    {
      "cell_type": "markdown",
      "source": [
        "**Constraints**\n",
        "\n",
        "Negative-weight edges and cycles are possible in the graph.\n",
        "Self-loops (edges where u equals v) are not permitted in the graph.\n",
        "If a negative-weight cycle exists, it should be noticed and reported.\n",
        "\n",
        "\n",
        "**Justification and Solution**\n",
        "\n",
        "The Bellman-Ford algorithm, as explained in the sample solution, can be used to solve this problem. Iteratively, the algorithm relaxes edges to identify the shortest path and tests for negative-weight cycles.\n",
        "\n",
        "\n",
        "\n"
      ],
      "metadata": {
        "id": "62_yWGZWOnmZ"
      }
    },
    {
      "cell_type": "markdown",
      "source": [
        "\n",
        "The following is a pseudocode implementation of the solution:"
      ],
      "metadata": {
        "id": "P9f2adZTO6hq"
      }
    },
    {
      "cell_type": "code",
      "source": [
        "def BellmanFord(vertices, edges, source):\n",
        "    # Step 1: Initialize graph\n",
        "    distance = {}\n",
        "    predecessor = {}\n",
        "\n",
        "    for vertex in vertices:\n",
        "        if vertex == source:\n",
        "            distance[vertex] = 0\n",
        "        else:\n",
        "            distance[vertex] = float('inf')\n",
        "        predecessor[vertex] = None\n",
        "\n",
        "    # Step 2: Relax edges repeatedly\n",
        "    for _ in range(len(vertices) - 1):\n",
        "        for edge in edges:\n",
        "            u, v, w = edge\n",
        "            if distance[u] + w < distance[v]:\n",
        "                distance[v] = distance[u] + w\n",
        "                predecessor[v] = u\n",
        "\n",
        "    # Step 3: Check for negative-weight cycles\n",
        "    for edge in edges:\n",
        "        u, v, w = edge\n",
        "        if distance[u] + w < distance[v]:\n",
        "            return \"negative cycle\"\n",
        "\n",
        "    return distance, predecessor\n"
      ],
      "metadata": {
        "id": "Lmy8L9WuRlZQ"
      },
      "execution_count": 4,
      "outputs": []
    },
    {
      "cell_type": "markdown",
      "source": [
        "\n",
        "This algorithm first initializes distances, then iteratively relaxes edges and checks for negative cycles."
      ],
      "metadata": {
        "id": "edy2doysRsGQ"
      }
    },
    {
      "cell_type": "markdown",
      "source": [
        "**Evidence of Correctness**\n",
        "\n",
        "The Bellman-Ford algorithm will always locate the shortest path and detect negative-weight cycles in the graph. The concept of relaxing edges and detecting cycles is used to prove correctness.\n",
        "\n",
        "\n"
      ],
      "metadata": {
        "id": "hIP5MYDnRyJK"
      }
    },
    {
      "cell_type": "markdown",
      "source": [
        "\n",
        "\n",
        "\n",
        "\n",
        "\n"
      ],
      "metadata": {
        "id": "Ltj_28w8R3do"
      }
    },
    {
      "cell_type": "markdown",
      "source": [
        "### **Q3- Problem Statement**\n",
        "\n",
        "In a weighted directed network, you must use the Ford-Fulkerson technique to identify the maximum flow from a source node (A) to a destination node (E). Your objective is to get the maximum flow value and show one feasible set of augmenting paths.\n"
      ],
      "metadata": {
        "id": "67hIL_0CXsH4"
      }
    },
    {
      "cell_type": "code",
      "source": [
        "   A\n",
        "  / \\\n",
        " 4/   \\3\n",
        " /     \\\n",
        "B       D\n",
        " \\     /\n",
        "  4\\   /3\n",
        "   \\ /\n",
        "   C\n",
        "    |\n",
        "    |\n",
        "    E\n"
      ],
      "metadata": {
        "id": "JRUz4BYHY45B"
      },
      "execution_count": null,
      "outputs": []
    },
    {
      "cell_type": "markdown",
      "source": [
        "In this diagram:\n",
        "\n",
        "Node A is the source node.\n",
        "Node E is the destination node.\n",
        "The edges are labeled with their capacities (c), and these capacities are used to find the maximum flow from A to E."
      ],
      "metadata": {
        "id": "qEtwNovZY-7M"
      }
    },
    {
      "cell_type": "markdown",
      "source": [
        "\n",
        "**Input**\n",
        "\n",
        "Your input will consist of the following:\n",
        "\n",
        "1. A weighted directed graph represented as a list of edges, where each edge is described as a tuple (u, v, c), representing an edge from node u to node v with a capacity of c.\n",
        "\n",
        "2. The source node, which is node A.\n",
        "\n",
        "3. The destination node, which is node E.\n",
        "\n",
        "**Output**\n",
        "\n",
        "Your task is to provide the following information:\n",
        "\n",
        "1. The maximum flow value from node A to node E.\n",
        "\n",
        "2. One possible set of augmenting paths that demonstrate how the maximum flow is achieved. An augmenting path is represented as a sequence of edges, showing the flow changes along the path. For example, \"AP1: (A-B: 1-4) -> (B-C: 1-4) -> (C-E: 0-4) Flow 4\" indicates that the first augmenting path starts at A and goes through B and C to E, with flow values shown for each edge.\n",
        "\n",
        "\n",
        "\n",
        "\n",
        "\n",
        "\n",
        "\n",
        "In this solution, we iteratively find augmenting paths and update the flow values accordingly. The `find_augmenting_path` function is responsible for finding these paths.\n",
        "\n",
        "**Proof of Correctness**\n",
        "\n",
        "The Ford-Fulkerson algorithm is a correct method for finding the maximum flow in a network. It guarantees that we find the maximum flow value, and the algorithm terminates when no more augmenting paths can be found. The correctness proof of the Ford-Fulkerson algorithm is well-established.\n",
        "\n",
        "**Reflection**\n",
        "\n",
        "The design of this problem required a deep understanding of the Ford-Fulkerson algorithm and how it works in the context of network flow problems. ChatGPT was invaluable in structuring the problem statement and providing a clear pseudocode solution.\n",
        "\n",
        "The main challenge was maintaining the essence of the sample problem while ensuring the problem was non-trivial and not a direct replication. The problem emphasizes the importance of clear problem design, including input-output formats and constraints.\n",
        "\n",
        "Overall, the experience reinforced the importance of precise problem design and provided insights into algorithmic problem creation. It highlighted the significance of presenting a clear problem statement and ensuring that participants can validate their solutions effectively."
      ],
      "metadata": {
        "id": "VKWQWWQdZA4Y"
      }
    },
    {
      "cell_type": "markdown",
      "source": [
        "**Sample Input**\n",
        "\n",
        "\n",
        "[('A', 'B', 4), ('B', 'C', 4), ('C', 'E', 4), ('A', 'D', 3), ('D', 'E', 3)]\n",
        "\n",
        "A\n",
        "\n",
        "E\n",
        "\n",
        "\n",
        "\n",
        "\n",
        "**Sample Output**\n",
        "\n",
        "Maximum Flow: 7\n",
        "\n",
        "Augmenting Paths:\n",
        "\n",
        "AP1: (A-B: 1-4) -> (B-C: 1-4) -> (C-E: 0-4) Flow 4\n",
        "\n",
        "AP2: (A-D: 0-3) -> (D-E: 0-3) Flow 3\n"
      ],
      "metadata": {
        "id": "VoADlbwmZLJP"
      }
    },
    {
      "cell_type": "markdown",
      "source": [
        "**Constraints**\n",
        "\n",
        "- Multiple edges between the same pair of nodes may exist in the graph.\n",
        "- The graph always contains the source (A) and destination (E) nodes.\n",
        "- The graph will always have a valid maximum flow.\n",
        "\n",
        "**Solution and Justification**\n",
        "\n",
        "You can use the Ford-Fulkerson algorithm to find the maximum flow from source node A to destination node E to solve this problem. The method finds enhancing pathways iteratively and updates the flow values along those paths.\n",
        "\n",
        "\n"
      ],
      "metadata": {
        "id": "-nGGtjTkZTwl"
      }
    },
    {
      "cell_type": "markdown",
      "source": [
        "Here's the solution in pseudocode:"
      ],
      "metadata": {
        "id": "1qjD_3jFZeux"
      }
    },
    {
      "cell_type": "code",
      "source": [
        "def FordFulkerson(graph, source, destination):\n",
        "    max_flow = 0\n",
        "    while True:\n",
        "        # Find an augmenting path using a graph traversal algorithm (e.g., DFS or BFS)\n",
        "        augmenting_path, bottleneck = find_augmenting_path(graph, source, destination)\n",
        "        if not augmenting_path:\n",
        "            break  # No more augmenting paths found, exit loop\n",
        "\n",
        "        # Update the flow values along the augmenting path\n",
        "        for u, v, c in augmenting_path:\n",
        "            c -= bottleneck\n",
        "            # Update the reverse edge\n",
        "            for i in range(len(graph[v])):\n",
        "                if graph[v][i][0] == u:\n",
        "                    graph[v][i][2] += bottleneck\n",
        "\n",
        "        max_flow += bottleneck\n",
        "\n",
        "    return max_flow"
      ],
      "metadata": {
        "id": "3M-SfolRZf0N"
      },
      "execution_count": 5,
      "outputs": []
    },
    {
      "cell_type": "markdown",
      "source": [
        "In this solution, we locate augmenting pathways iteratively and change the flow parameters accordingly. The 'find_augmenting_path' function is in charge of locating these paths.\n",
        "\n",
        "**Proof of Correctness**\n",
        "\n",
        "The Ford-Fulkerson algorithm is a reliable approach for determining maximum flow in a network. It ensures that the greatest flow value is found, and the algorithm finishes when no more augmenting pathways can be located. The Ford-Fulkerson algorithm's accuracy is well proven.\n",
        "\n",
        "**Reflection:**\n",
        "\n",
        "\n",
        "Algorithm problem design necessitates a thorough understanding of the basic algorithm, clear communication in the problem statement, and a concentration on variants that put problem-solving skills to the test. Clarity, testing, and accuracy are critical."
      ],
      "metadata": {
        "id": "iP2FLCgZZfPT"
      }
    },
    {
      "cell_type": "markdown",
      "source": [
        "### **Q4- Problem Statement**\n",
        "\n",
        "You are tasked with determining the maximum flow from a source node A to a destination node E in a weighted directed graph using the Preflow-Push (Push-relabel) maximum flow algorithm. Your goal is to determine the maximum flow value and demonstrate the algorithm's phases.\n"
      ],
      "metadata": {
        "id": "Hto7axHvZ9uy"
      }
    },
    {
      "cell_type": "code",
      "source": [
        "   A\n",
        "  / \\\n",
        " 5/   \\3\n",
        " /     \\\n",
        "B       D\n",
        " \\     /\n",
        "  2\\   /4\n",
        "   \\ /\n",
        "   C\n",
        "    |\n",
        "    |\n",
        "    E\n"
      ],
      "metadata": {
        "id": "_M5n1vvRaWfP"
      },
      "execution_count": null,
      "outputs": []
    },
    {
      "cell_type": "markdown",
      "source": [
        "In this diagram:\n",
        "\n",
        "Node A is the source node.\n",
        "\n",
        "Node E is the destination node.\n",
        "\n",
        "The edges are labeled with their capacities (c), and these capacities are used to find the maximum flow from A to E.\n"
      ],
      "metadata": {
        "id": "xIy0hOAjapDI"
      }
    },
    {
      "cell_type": "markdown",
      "source": [
        "**Input**\n",
        "\n",
        "Your contributions will include the following:\n",
        "\n",
        "1. A weighted directed graph expressed as a list of edges, with each edge specified as a tuple (u, v, c), signifying an edge with a capacity of c from node u to node v.\n",
        "\n",
        "Node A serves as the source node.\n",
        "\n",
        "3. Node E is the destination node.\n",
        "\n",
        "**Output**\n",
        "\n",
        "It is your responsibility to submit the following information:\n",
        "\n",
        "1. The greatest possible flow value from node A to node E.\n",
        "\n",
        "2. The Preflow-Push algorithm steps, including actions (relabel or push), affected edges, and updated flow values for each step. Starting with the initialization of heights and flow, each step should demonstrate how the maximum flow is attained.\n"
      ],
      "metadata": {
        "id": "v1kkxKAna0y3"
      }
    },
    {
      "cell_type": "markdown",
      "source": [
        "\n",
        "\n",
        "**Sample Input**\n",
        "\n",
        "```\n",
        "[('A', 'B', 5), ('A', 'D', 3), ('B', 'C', 2), ('B', 'D', 3), ('C', 'E', 3), ('D', 'C', 2), ('D', 'E', 4)]\n",
        "\n",
        "A\n",
        "\n",
        "E\n",
        "\n",
        "\n",
        "\n"
      ],
      "metadata": {
        "id": "uW6deF-DarA6"
      }
    },
    {
      "cell_type": "markdown",
      "source": [
        "**Sample Output**"
      ],
      "metadata": {
        "id": "MZM3iI8_bQe9"
      }
    },
    {
      "cell_type": "code",
      "source": [
        "\n",
        "\n",
        "```\n",
        "Maximum Flow: 7\n",
        "\n",
        "Steps:\n",
        "\n",
        "Initialize:\n",
        "\n",
        "Set all node heights to zero, except for A = 5.\n",
        "\n",
        "A: Relabel -> {A, h = 5}\n",
        "\n",
        "A-B: Push -> {A-B, f(e(A-B)) = 5, ef(B) = 5}\n",
        "\n",
        "A-D: Push -> {A-D, f(e(A-D)) = 3, ef(D) = 3}\n",
        "\n",
        "End initialize.\n",
        "B: Relabel -> {B, h = 1}\n",
        "ef(B) = 5\n",
        "B-C: Push -> {B-C, f(e(B-C)) = 2, ef(B) = 3, ef(C) = 2}\n",
        "B-D: Push -> {B-D, f(e(B-D)) = 3, ef(B) = 0, ef(D) = 3}\n",
        "\n",
        "Relabel -> {D, h = 1}\n",
        "ef(D) = 6\n",
        "D-E: Push -> {D-E, f(e(D-E)) = 4, ef(D) = 3, ef(E) = 4}\n",
        "D-C: Push -> {D-C, f(e(D-C)) = 2, ef(D) = 0, ef(C) = 4}\n",
        "\n",
        "C: Relabel -> {C, h = 1}\n",
        "ef(C) = 4\n",
        "C-E: Push -> {C-E, f(e(C-E)) = 3, ef(C) = 3, ef(E) = 7}\n",
        "\n",
        "C: Relabel -> {C, h = 2}\n",
        "ef(C) = 1\n",
        "B-C: Push -> {B-C, f(e(B-C)) = -1, ef(B) = 1, ef(C) = 0}\n",
        "\n",
        "B: Relabel -> {B, h = 6}\n",
        "A-B: Push -> {A-B, f(e(A-B)) = -1, ef(B) = 0}\n",
        "\n",
        "No remaining excess, algorithm terminates.\n",
        "\n",
        "ef(E) = 7, therefore, the flow to E (the max-flow) is 7."
      ],
      "metadata": {
        "id": "j9IHQx1-bGuj"
      },
      "execution_count": null,
      "outputs": []
    },
    {
      "cell_type": "markdown",
      "source": [
        "**Constraints**\n",
        "\n",
        "- Multiple edges between the same pair of nodes may exist in the graph.\n",
        "- The graph always contains the source (A) and destination (E) nodes.\n",
        "- The graph will always have a valid maximum flow.\n",
        "\n",
        "**Solution and Justification**\n",
        "\n",
        "Initialization: All node heights are initially set to zero, with the exception of the source node A, which is set to a height of |V|, where |V| is the total number of nodes. This ensures that source node A has the highest height and can push flow to other nodes.\n",
        "\n",
        "Flow Initialization: For all edges that start at node A, the flow value (f) is set to its capacity (ce). The flow value for all other edges is set to 0. This is the algorithm's starting point, representing the flow distribution before any iterations.\n",
        "\n",
        "Push and Relabel:\n",
        "\n",
        "-The algorithm conducts two major operations iteratively: push and relabel.\n",
        "\n",
        "-Push: In each iteration, for any edge (u, v) with a flow value less than its capacity (f(u, v) c(u, v)), a push operation is done if the height of node u (h(u)) plus the cost (w(u, v)) of the edge is less than the height of node v (h(v)).\n",
        "-During a push, the flow on the edge (u, v) is increased to the greatest extent feasible (c(u, v) - f(u, v)), while the flow on the reverse edge (v, u) is reduced to the same extent.\n",
        "\n",
        "-By removing the pushed flow, node u's excess flow (ef) is updated.\n",
        "\n",
        "-Relabel: If no push operation is possible for node u, it undergoes a relabel operation. During relabeling, the height of node u is increased to be at least one more than the minimum height of its neighbors. This ensures that node u has a chance to push its excess flow in the future.\n",
        "\n",
        "Termination: The algorithm continues to perform push and relabel operations until no nodes (other than the source and destination nodes) have excess flow (ef(u) > 0). When no such nodes exist, the algorithm terminates.\n",
        "\n",
        "Maximum Flow Calculation:\n",
        "The maximum flow value is calculated by summing the flow values on all edges leaving the source node A (f(A, v) for all v in neighbors of A). This represents the total flow leaving the source and reaching the destination.\n",
        "\n",
        "Output:\n",
        "The algorithm outputs the maximum flow value, as well as a detailed log of steps taken during the process, including relabeling and pushing operations.\n",
        "\n",
        "\n",
        "\n",
        "\n"
      ],
      "metadata": {
        "id": "5XKsDSjmbMb7"
      }
    },
    {
      "cell_type": "markdown",
      "source": [
        "Correctness and Efficiency:\n",
        "\n",
        "The Preflow-Push algorithm is a well-known technique for determining the maximum flow in a network flow problem. Its correctness and efficiency are generally recognized and have been demonstrated in the field of algorithm design.\n",
        "The algorithm's termination condition ensures that the maximum flow is found.\n",
        "The employment of heights and push/relabel procedures aids in the efficient distribution of network flow.\n",
        "\n"
      ],
      "metadata": {
        "id": "bcJLORIqcdOJ"
      }
    },
    {
      "cell_type": "markdown",
      "source": [
        "### **Q5- Problem Statement**\n",
        "\n",
        "G = (V, E) is a directed graph representing a flow network with unit capacity edges. There is a source vertex's' and a target (sink) vertex 't' in the graph. Each graph edge has a capacity of one.\n",
        "\n",
        "Your goal is to reduce the flow network's capacity from's' to 't' by eliminating a predetermined number of edges while minimizing the remaining flow value. Find a selection of edges M from E such that the flow from's' to 't' in the redesigned graph G' = (V, E - M) is as little as possible. 'k' denotes the number of edges to be eliminated, where k is fewer than or equal to the total number of edges |E|.\n",
        "\n",
        "\n",
        "Write a function reduce_flow_capacity(G, k) where:\n",
        "\n",
        "'G' is a directed flow network graph represented as a list of edges, where each edge is described as a tuple (u, v), representing an edge from node 'u' to node 'v'.\n",
        "\n",
        "'k' is an integer, the maximum number of edges that can be deleted from the graph.\n",
        "\n",
        "The function should return a subset of 'k' edges to be deleted (represented as a list of tuples (u, v)), such that the remaining flow from 's' to 't' in the modified graph G' = (V, E - M) is minimized."
      ],
      "metadata": {
        "id": "l95XoCJGckVS"
      }
    },
    {
      "cell_type": "markdown",
      "source": [
        "**Example:**"
      ],
      "metadata": {
        "id": "tYtHqNpideBi"
      }
    },
    {
      "cell_type": "markdown",
      "source": [
        "G = [('s', 'A'), ('s', 'B'), ('A', 'C'), ('B', 'C'), ('C', 't')]\n",
        "k = 2\n",
        "\n",
        "reduce_flow_capacity(G, k)\n"
      ],
      "metadata": {
        "id": "-0tGHfPudjKQ"
      }
    },
    {
      "cell_type": "markdown",
      "source": [
        "**Output:**\n",
        "\n",
        "Edges to be Deleted: [('s', 'A'), ('s', 'B')]\n"
      ],
      "metadata": {
        "id": "Am0fgjAvdjuE"
      }
    },
    {
      "cell_type": "markdown",
      "source": [
        "**Explanation**\n",
        "\n",
        "In this example, the function determines that the two edges ('s', 'A') and ('s', 'B') should be deleted. This results in a modified graph G' where the remaining flow from 's' to 't' is minimized.\n",
        "\n",
        "**Constraints**\n",
        "\n",
        "The graph may contain multiple edges between the same pair of nodes.\n",
        "The source node 's' and target node 't' are always present in the graph.\n",
        "1 <= k <= |E|, where |E| is the total number of edges in the graph."
      ],
      "metadata": {
        "id": "fsA-tvgibhLy"
      }
    },
    {
      "cell_type": "markdown",
      "source": [
        "**Solution and Justification**\n",
        "\n",
        "Finding a subset of 'k' edges to eliminate from the graph while minimizing the remaining flow from's' to 't' is the answer. The algorithm proceeds as follows:\n",
        "\n",
        "-- If the original graph's minimum's-t' cut has a size less than or equal to 'k,' we can lower the flow from's' to 't' to 0 by eliminating 'k' edges.\n",
        "\n",
        "-- If the minimum's-t' cut is larger than 'k,' we find it in the graph and eliminate 'k' of the edges that originate from the source vertex's' and are present in set A. This assures that the remaining flow in the updated graph G' = (V, E - M) from's' to 't' is as little as feasible.\n",
        "\n",
        "-- We further assert that for each set of edges F of size 'k', the sub-graph G' = (V, E - F) has an's-t' flow value of at least (f - k), where 'f' is the value of the original graph's minimum's-t' flow. This is because there are at least (f - k) edges out of A in the original graph G for any cut (A, B) in G'. As a result, the smallest cut in G' has a value of at least (f - k), and there is at least this amount of flow.\n",
        "\n",
        "\n",
        "\n",
        "\n",
        "\n",
        "\n",
        "\n",
        "\n"
      ],
      "metadata": {
        "id": "xJE_EpgAdtGJ"
      }
    },
    {
      "cell_type": "markdown",
      "source": [
        "### **Q6- Problem Statement**\n",
        "\n",
        "In a disaster-stricken area, paramedics must evacuate injured people to nearby hospitals. In the area, there are 'k' hospitals and 'n' injured patients who require quick medical attention. Each injured individual must be sent to a hospital that is within a specified time limit (in minutes) of their current location.\n",
        "\n",
        "The purpose is to see if it is possible to assign injured people to hospitals in such a way that each hospital receives at most n/k patients and each individual's transportation time does not exceed the set limit.\n",
        "\n",
        "Write a function disaster_response(transport_times, k, limit) where:\n",
        "\n",
        "'transport_times' is a list of 'n' integers, representing the time it takes to transport each injured person to a hospital. The list is in the same order as the individuals.\n",
        "'k' is an integer representing the number of hospitals in the region.\n",
        "'limit' is an integer, indicating the maximum allowable transportation time in minutes.\n",
        "The function should return a Boolean value:\n",
        "\n",
        "'True' if it's possible to allocate the injured individuals to hospitals in a balanced way, and the transportation time for each individual does not exceed the specified limit.\n",
        "'False' if it's not possible to allocate the patients in a balanced and timely manner.\n"
      ],
      "metadata": {
        "id": "Fd0NdsMWeQJg"
      }
    },
    {
      "cell_type": "markdown",
      "source": [
        "**Example**\n",
        "\n",
        "transport_times = [20, 25, 10, 15, 30]\n",
        "k = 2\n",
        "limit = 30\n",
        "\n",
        "disaster_response(transport_times, k, limit)\n",
        "\n",
        "\n",
        "**Output**\n",
        "\n",
        "\n",
        "True\n",
        "\n",
        "\n",
        "**Explanation**\n",
        "\n",
        "Explanation\n",
        "\n",
        "In this example, there are 5 injured individuals, and 2 hospitals are available. The transportation times to the hospitals are: [20, 25, 10, 15, 30]. We want to check if it's possible to allocate the patients in a balanced manner, with each hospital receiving at most ⌊n/k⌋ patients, and the maximum transportation time being 30 minutes.\n",
        "\n",
        "Here's how the solution works:\n",
        "\n",
        "Sort the transportation times in ascending order: [10, 15, 20, 25, 30].\n",
        "\n",
        "Calculate ⌊n/k⌋, which is 5/2 = 2. Each hospital can receive at most 2 patients.\n",
        "\n",
        "Assign the first 2 transportation times to the first hospital: [10, 15].\n",
        "\n",
        "Assign the next 2 transportation times to the second hospital: [20, 25].\n",
        "\n",
        "The maximum transportation time for the first hospital is 15 minutes, and for the second hospital, it's 25 minutes.\n",
        "\n",
        "The maximum transportation time, 25 minutes, is less than or equal to the specified limit of 30 minutes.\n",
        "\n",
        "Therefore, it's possible to allocate the patients to hospitals in a balanced and timely manner, and the function returns True.\n",
        "\n",
        "\n",
        "\n"
      ],
      "metadata": {
        "id": "C2lJfUnefF0E"
      }
    },
    {
      "cell_type": "markdown",
      "source": [
        "**Constraints**\n",
        "\n",
        "1 <= n <= 10^5\n",
        "\n",
        "1 <= k <= n\n",
        "\n",
        "1 <= transport_times[i] <= 60 (representing transportation time in minutes)\n",
        "\n",
        "1 <= limit <= 60 (maximum allowable transportation time in minutes)"
      ],
      "metadata": {
        "id": "KZW8t0NHfSav"
      }
    },
    {
      "cell_type": "markdown",
      "source": [
        "**Here's a step-by-step solution and justification:**\n",
        "\n",
        "-- Sort the transportation times: First, we need to sort the list of transportation times in ascending order. This ensures that we allocate patients to hospitals with the shortest transportation times first, which is essential for timely responses.\n",
        "\n",
        "-- -- Calculate the maximum patients per hospital: Find ⌊n/k⌋, which represents the maximum number of patients each hospital can receive while keeping the allocation balanced.\n",
        "\n",
        "-- Assign patients to hospitals: Start by assigning the first ⌊n/k⌋ patients to the first hospital. Then, assign the next ⌊n/k⌋ patients to the second hospital, and so on. Continue this assignment process until all patients are allocated.\n",
        "\n",
        "-- Calculate the maximum transportation time for each hospital: For each hospital, calculate the total transportation time of the patients assigned to it. This will be the sum of the transportation times for the patients assigned to that hospital.\n",
        "\n",
        "-- Check if the maximum time limit is met: Finally, check if the maximum of the calculated transportation times for all hospitals is less than or equal to the specified limit. If this condition is met, it means that the allocation is balanced, and the patients can reach their respective hospitals within the given time limit.\n",
        "\n",
        "-- Return the result: If the condition is met, return True to indicate that it's possible to allocate the patients in a balanced and timely manner. Otherwise, return False.\n",
        "\n",
        "The algorithm has a time complexity of O(n log n) due to the sorting operation, making it efficient for practical use."
      ],
      "metadata": {
        "id": "10y2YedmfVM8"
      }
    },
    {
      "cell_type": "markdown",
      "source": [
        "**Reflection**\n",
        "\n",
        "This problem highlights the real-world application of algorithms in disaster response and healthcare logistics. It underlines the significance of making sound decisions while allocating resources during a crisis. The formulation of this problem enabled the investigation of practical cases and the creation of an algorithmic solution. It also emphasized the importance of clear issue formulation and the application of algorithms in catastrophe management.\n",
        "\n"
      ],
      "metadata": {
        "id": "Gwe4fCp6f9Um"
      }
    },
    {
      "cell_type": "markdown",
      "source": [
        "### **Q7- Problem Statement**\n",
        "\n",
        "You are employed by a retail corporation that intends to open a network of outlets along a straight road. Each store on the road is represented by a block, and there are N total blocks. You must determine which blocks to open stores on in order to maximize revenues. Each block has a profit value, and you wish to open stores on a subset of non-adjacent blocks, ensuring that no two adjacent blocks have stores. Your goal is to figure out how much money you can make.\n",
        "\n",
        "\n",
        "\n",
        "Write a function maximize_store_profit(N, profits) that takes the following inputs:\n",
        "\n",
        "An integer N (1 <= N <= 100), representing the number of blocks along the road.\n",
        "A list profits of length N, where each element profits[i] (1 <= profits[i] <= 1000) is the profit you can earn by opening a store on block i.\n",
        "The function should return the maximum profit you can achieve by strategically selecting non-adjacent blocks to open stores while adhering to the adjacency constraint."
      ],
      "metadata": {
        "id": "AExtfnLXf4qr"
      }
    },
    {
      "cell_type": "markdown",
      "source": [
        "**Example**\n",
        "\n",
        "\n",
        "N = 7\n",
        "\n",
        "profits = [3, 5, 8, 4, 1, 6, 2]\n",
        "\n",
        "maximize_store_profit(N, profits)\n",
        "\n",
        "**Output:**\n",
        "\n",
        "\n",
        "15"
      ],
      "metadata": {
        "id": "wOuinokQjQCi"
      }
    },
    {
      "cell_type": "markdown",
      "source": [
        "**Explanation:**\n",
        "\n",
        "In this example, you have 7 blocks with the following profits: [3, 5, 8, 4, 1, 6, 2]. To maximize profit, you can open stores on blocks 1, 3, and 6, with profits [3, 8, 6], summing up to a total profit of 15.\n",
        "\n",
        "**Constraints**\n",
        "\n",
        "1 <= N <= 100\n",
        "1 <= profits[i] <= 1000\n"
      ],
      "metadata": {
        "id": "sQbhcU4XjVkI"
      }
    },
    {
      "cell_type": "markdown",
      "source": [
        "Solution and Justification\n",
        "\n",
        "The solution to this problem is based on dynamic programming, similar to the sample problem. Here's the step-by-step solution:\n",
        "\n",
        "Step 1: Create a list dp of length N to store the maximum profit achievable for each block. Initialize all elements in dp to 0.\n",
        "\n",
        "Step 2: Define a recurrence for dp[i]:\n",
        "dp[i] = max(dp[i-1], pi + dp[i-2])\n",
        "\n",
        "Where pi is the profit associated with block i.\n",
        "\n",
        "Step 3: Iterate through the blocks from 0 to N-1, and for each block i, calculate dp[i] using the recurrence. The maximum profit achievable will be stored in dp[N-1].\n",
        "\n",
        "Step 4: Return dp[N-1] as the maximum profit achievable while adhering to the adjacency constraint.\n",
        "\n",
        "The correctness of this solution is justified by the recurrence defined in Step 2, which ensures that for each block i, the function calculates the maximum profit considering whether to open a store on that block or not. The algorithm iterates through the blocks, and the final value in dp (i.e., dp[N-1]) represents the maximum profit achievable."
      ],
      "metadata": {
        "id": "Oo0_4XqpjY43"
      }
    },
    {
      "cell_type": "markdown",
      "source": [
        "**Reflection**\n",
        "\n",
        "This problem extends the structure and algorithmic notion of the sample problem while introducing a new context relating to store location optimization. It emphasizes the application of dynamic programming to practical decision-making contexts such as store site selection.\n",
        "\n",
        "The key difficulty in developing this problem was coming up with a meaningful scenario in which the adjacency requirement was relevant and resulted in a non-trivial problem. The problem design approach emphasized the significance of creating real-world scenarios that interest learners while also demonstrating the value of algorithmic techniques in a variety of contexts.\n",
        "\n",
        "\n"
      ],
      "metadata": {
        "id": "FEc9CstljikC"
      }
    },
    {
      "cell_type": "markdown",
      "source": [
        "### **Q8- Problem Statement**\n",
        "\n",
        "You are provided a list of recursive algorithms and the recurrence relations that go with them. It is your responsibility to assess whether each recurrence relation can be solved using the Master Theorem and, if so, to supply the runtime expression. Indicate if the Master Theorem is not applicable.\n",
        "\n",
        "\n",
        "\n",
        "Write a function analyze_recurrences(recurrences) that takes the following input:\n",
        "\n",
        "A list recurrences where each element is a dictionary representing a recurrence relation. The dictionary has the following key-value pairs:\n",
        "'case': A string that can take values 'Theta' (if the Master Theorem is applicable) or 'Not Applicable' (if the Master Theorem is not applicable).\n",
        "'A': An integer representing the coefficient of the recursive term.\n",
        "'B': An integer representing the size of the subproblem.\n",
        "'k': An integer representing the exponent of the recursive term.\n",
        "'f(n)': A string representing the non-recursive term.\n",
        "\n",
        "The function should produce a list of dictionaries, each containing an analysis for the relevant recurrence relation. If the Master Theorem applies, the runtime expression should be included in the dictionary. If it does not apply, the dictionary should include the phrase \"Not Applicable.\"\n",
        "\n",
        "\n"
      ],
      "metadata": {
        "id": "QmthNjQTjb9Z"
      }
    },
    {
      "cell_type": "markdown",
      "source": [
        "**Example**\n",
        "\n",
        "\n",
        "recurrences = [\n",
        "    {\"case\": \"Theta\", \"A\": 4, \"B\": 2, \"k\": 2, \"f(n)\": \"n^2logn\"},\n",
        "\n",
        "    {\"case\": \"Theta\", \"A\": 2, \"B\": 2, \"k\": 1, \"f(n)\": \"n^0.33\"},\n",
        "\n",
        "    {\"case\": \"Not Applicable\", \"A\": 0.1, \"B\": 2, \"k\": 1, \"f(n)\": \"logn\"},\n",
        "\n",
        "    {\"case\": \"Not Applicable\", \"A\": 9, \"B\": 3, \"k\": 2, \"f(n)\": \"n^2\"},\n",
        "\n",
        "    {\"case\": \"Not Applicable\", \"A\": 2, \"B\": 2, \"k\": 1, \"f(n)\": \"n/logn\"}\n",
        "\n",
        "]\n",
        "\n",
        "analyze_recurrences(recurrences)\n",
        "\n",
        "**Output:**\n",
        "\n",
        "[\n",
        "    {\"case\": \"Theta\", \"runtime\": \"Theta(n^2logn)\"},\n",
        "\n",
        "    {\"case\": \"Theta\", \"runtime\": \"Theta(n)\"},\n",
        "\n",
        "    {\"case\": \"Not Applicable\"},\n",
        "\n",
        "    {\"case\": \"Not Applicable\"},\n",
        "\n",
        "    {\"case\": \"Not Applicable\"}\n",
        "    \n",
        "]"
      ],
      "metadata": {
        "id": "rFUGo-AxnMJi"
      }
    },
    {
      "cell_type": "markdown",
      "source": [
        "**Constraints**\n",
        "\n",
        "The input list recurrences has at most a length of 100.\n",
        "\n",
        "The values in the dictionaries are within the range suitable for the Master Theorem."
      ],
      "metadata": {
        "id": "TJwQ-owUneND"
      }
    },
    {
      "cell_type": "markdown",
      "source": [
        "**Solution and Justification**\n",
        "\n",
        "The solution involves analyzing each recurrence relation based on the components provided in the dictionary. The key steps for analysis are:\n",
        "\n",
        "If the 'case' value is \"Theta,\" it means the Master Theorem can be applied. In this case, calculate the runtime expression using the provided values for A, B, k, and f(n). The runtime expression is in the form of Theta(...).\n",
        "If the 'case' value is \"Not Applicable,\" it means the Master Theorem does not apply.\n",
        "\n",
        "Return the result of analysis for each recurrence in the input list.\n",
        "\n",
        "The correctness of this solution is based on the application of the Master Theorem for the applicable recurrences. The justification for \"Not Applicable\" is based on the conditions where the Master Theorem cannot be applied, such as non-polynomial differences between f(n) and n^k"
      ],
      "metadata": {
        "id": "W5rLjrDoniKr"
      }
    },
    {
      "cell_type": "markdown",
      "source": [
        "**Reflection**\n",
        "\n",
        "This problem allows you to practice analyzing recurrence relations and applying the Master Theorem. The problem design requires understanding the situations in which the Master Theorem can and cannot be implemented, giving learners real experience in algorithmic analysis. The difficulty was in developing meaningful test cases and verifying that the problem was not trivial.\n",
        "\n",
        "Overall, the problem-design process emphasized the necessity of precision in specifying conditions and examining algorithmic features.\n",
        "\n",
        "\n",
        "\n",
        "\n"
      ],
      "metadata": {
        "id": "k4GWlurMnp4H"
      }
    },
    {
      "cell_type": "markdown",
      "source": [
        "### **Q9 - Problem Statement**\n",
        "\n",
        "You are given a set of intervals, each associated with a value. Your goal is to select a subset of non-overlapping intervals to maximize the combined value. Use dynamic programming to determine the maximum value that can be achieved.\n",
        "\n",
        "Write a function select_intervals(intervals, values) to solve this problem. The function should take the following inputs:\n",
        "\n",
        "intervals: A list of intervals represented as tuples (start, end), where 0 ≤ start ≤ end ≤ 100. Each interval represents a time range during which an event can occur.\n",
        "\n",
        "values: A list of integers, where the ith integer represents the value associated with the ith interval.\n",
        "\n",
        "The function should return an integer, which is the maximum combined value achievable by selecting a subset of non-overlapping intervals."
      ],
      "metadata": {
        "id": "F29PMXAQn53l"
      }
    },
    {
      "cell_type": "markdown",
      "source": [
        "Interval Diagram\n",
        "\n",
        "Here is a visual representation of the intervals:"
      ],
      "metadata": {
        "id": "WeueuB3RqzBW"
      }
    },
    {
      "cell_type": "code",
      "source": [
        "Intervals:   |---1---|   |-------3-------|   |---2---|   |---6---|   |-------5-------|\n",
        "Values:       3          4                  5         2          4\n"
      ],
      "metadata": {
        "id": "67mTz3ODq1cL"
      },
      "execution_count": null,
      "outputs": []
    },
    {
      "cell_type": "markdown",
      "source": [
        "The selected intervals for maximum value would be (1, 4), (6, 8), and (5, 9) with a combined value of 10."
      ],
      "metadata": {
        "id": "8JS3HXIpq2z_"
      }
    },
    {
      "cell_type": "markdown",
      "source": [
        "**Example**\n",
        "\n",
        "\n",
        "intervals = [(1, 4), (3, 7), (2, 6), (6, 8), (5, 9)]\n",
        "\n",
        "values = [3, 4, 5, 2, 4]\n",
        "\n",
        "select_intervals(intervals, values)\n",
        "\n",
        "**Output:**\n",
        "\n",
        "\n",
        "10"
      ],
      "metadata": {
        "id": "r4rKTCR6q4WI"
      }
    },
    {
      "cell_type": "markdown",
      "source": [
        "**Explanation:**\n",
        "\n",
        "In this example, the intervals and values are as follows:\n",
        "\n",
        "Interval (1, 4) with value 3\n",
        "\n",
        "Interval (3, 7) with value 4\n",
        "\n",
        "Interval (2, 6) with value 5\n",
        "\n",
        "Interval (6, 8) with value 2\n",
        "\n",
        "Interval (5, 9) with value 4\n",
        "\n",
        "To maximize the combined value, you can select intervals (1, 4) and (6, 8) with a combined value of 3 + 2 = 5, and then select interval (5, 9) with an additional value of 4. The total combined value is 5 + 4 = 9."
      ],
      "metadata": {
        "id": "mRD0JwgWq-nP"
      }
    },
    {
      "cell_type": "markdown",
      "source": [
        "**Constraints**\n",
        "\n",
        "The input intervals list contains at most 100 intervals.\n",
        "The values list contains positive integers.\n",
        "Intervals have integer start and end points between 0 and 100.\n",
        "There will always be at least one interval in the input."
      ],
      "metadata": {
        "id": "xMeSa6DcrBWx"
      }
    },
    {
      "cell_type": "markdown",
      "source": [
        "**Justification and Solution**\n",
        "\n",
        "The solution to this problem is to use dynamic programming to get the greatest combined value while taking non-overlapping intervals into account. This can be accomplished by sorting the intervals according to their end points and then iteratively computing the maximum value for each interval while deciding whether to include or skip it.\n",
        "\n",
        "The dynamic programming state is denoted by dp[i], where dp[i] indicates the highest combined value achievable up to interval i. The recurrence relationship can be represented as follows:\n",
        "\n",
        "dp[i] = max(dp[i-1], dp[j] + values[i])\n",
        "\n",
        "Where j represents the last non-overlapping interval before interval i. By calculating dp[i] for each interval, you can determine the maximum combined value.\n",
        "\n",
        "The time complexity of this solution is O(n^2), where n is the number of intervals. This is efficient given the constraints.\n",
        "\n",
        "\n"
      ],
      "metadata": {
        "id": "WHA9TTE1rGzi"
      }
    },
    {
      "cell_type": "code",
      "source": [
        "def select_intervals(intervals, values):\n",
        "    # Sort intervals based on their end points\n",
        "    n = len(intervals)\n",
        "    combined_values = [0] * n  # Initialize an array to store combined values\n",
        "\n",
        "    # Sort intervals based on their end points\n",
        "    intervals = sorted(zip(intervals, values), key=lambda x: x[0][1])\n",
        "\n",
        "    # Initialize the combined values with the first interval's value\n",
        "    combined_values[0] = intervals[0][1]\n",
        "\n",
        "    for i in range(1, n):\n",
        "        current_interval, current_value = intervals[i]\n",
        "        combined_values[i] = current_value  # Initialize with the current value\n",
        "\n",
        "        # Find the last non-overlapping interval\n",
        "        for j in range(i - 1, -1, -1):\n",
        "            if current_interval[0] >= intervals[j][0][1]:\n",
        "                combined_values[i] = max(combined_values[i], combined_values[j] + current_value)\n",
        "                break\n",
        "\n",
        "    # The maximum combined value is the maximum value in the combined_values array\n",
        "    return max(combined_values)\n",
        "\n",
        "# Example usage:\n",
        "intervals = [(1, 4), (3, 7), (2, 6), (6, 8), (5, 9)]\n",
        "values = [3, 4, 5, 2, 4]\n",
        "max_combined_value = select_intervals(intervals, values)\n",
        "print(max_combined_value)\n"
      ],
      "metadata": {
        "colab": {
          "base_uri": "https://localhost:8080/"
        },
        "id": "_CtuqOvPrqW3",
        "outputId": "e5c30257-74e4-4ef0-83fd-922510e06e57"
      },
      "execution_count": 6,
      "outputs": [
        {
          "output_type": "stream",
          "name": "stdout",
          "text": [
            "7\n"
          ]
        }
      ]
    },
    {
      "cell_type": "markdown",
      "source": [
        "**Reflection**\n",
        "\n",
        "This problem enabled us to create a realistic situation in which the selection of non-overlapping occurrences optimizes a specific value. In such cases, the usage of dynamic programming is a basic notion in algorithm creation. The challenge necessitated a precise specification as well as limits for intervals and values. It was difficult to generate non-trivial test cases, as well as to ensure that the problem's solution was well-structured and efficient. Overall, it allows students to practice dynamic programming and interval selection techniques.\n",
        "\n",
        "\n"
      ],
      "metadata": {
        "id": "mj1GSu4ZrgM-"
      }
    },
    {
      "cell_type": "markdown",
      "source": [
        "### **Q10- Problem Statement**\n",
        "\n",
        "You are a space explorer tasked with collecting precious treasures from several planets. You have limited cargo room on your spaceship and must choose which artifacts to bring with you in order to maximize their total value. Each artifact has a specific weight and value, and your goal is to choose a combination of artifacts that fits within your spaceship's cargo space and yields the highest total value.\n",
        "\n"
      ],
      "metadata": {
        "id": "F5BMrVx6rrzd"
      }
    },
    {
      "cell_type": "markdown",
      "source": [
        "Write a function max_combined_value that takes the following inputs:\n",
        "\n",
        "artifacts: a list of tuples where each tuple represents an artifact with the format (name, value, weight).\n",
        "cargo_space: an integer representing the available cargo space in your spaceship.\n",
        "The function should return a list of artifact names that you should take with you to maximize the total value. If multiple solutions are possible, return any valid solution."
      ],
      "metadata": {
        "id": "0kkqZovOtSTU"
      }
    },
    {
      "cell_type": "markdown",
      "source": [
        "**Input**\n",
        "\n",
        "artifacts: List of tuples, where 1 <= value <= 10, 1 <= weight <= 10.\n",
        "cargo_space: An integer (1 <= cargo_space <= 30).\n",
        "\n",
        "**Output**\n",
        "\n",
        "A list of artifact names, representing the selected artifacts."
      ],
      "metadata": {
        "id": "tQcDrcT1tUye"
      }
    },
    {
      "cell_type": "markdown",
      "source": [],
      "metadata": {
        "id": "veMB07POtb75"
      }
    },
    {
      "cell_type": "markdown",
      "source": [
        "**Example**\n",
        "\n",
        "\n",
        "artifacts = [\n",
        "    (\"Ancient Vase\", 6, 3),\n",
        "\n",
        "    (\"Alien Crystal\", 10, 5),\n",
        "\n",
        "    (\"Fossilized Plant\", 8, 4),\n",
        "\n",
        "    (\"Golden Idol\", 15, 8),\n",
        "\n",
        "    (\"Laser Sword\", 12, 6)\n",
        "]\n",
        "cargo_space = 15\n",
        "\n",
        "result = max_combined_value(artifacts, cargo_space)\n",
        "print(result)\n",
        "\n",
        "\n",
        "**Sample Output**\n",
        "\n",
        "\n",
        "['Ancient Vase', 'Alien Crystal', 'Golden Idol']"
      ],
      "metadata": {
        "id": "T9xlXEjXtcNV"
      }
    },
    {
      "cell_type": "markdown",
      "source": [
        "Explanation\n",
        "\n",
        "In this example, you have a spaceship with a cargo space of 15 units. The artifacts are represented in a table:\n",
        "\n",
        "\n",
        "\n",
        "\n",
        "\n",
        "\n",
        "\n",
        "\n",
        "\n",
        "\n",
        "\n",
        "\n",
        "\n",
        "\n",
        "\n"
      ],
      "metadata": {
        "id": "oTLPDYU6tlYn"
      }
    },
    {
      "cell_type": "code",
      "source": [
        "Artifact\t           Value\t        Weight\n",
        "Ancient Vase\t         6\t              3\n",
        "Alien Crystal\t         10\t              5\n",
        "Fossilized Plant\t     8                4\n",
        "Golden Idol\t           15               8\n",
        "Laser Sword\t           12\t              6\n"
      ],
      "metadata": {
        "id": "2XchOC66t2ED"
      },
      "execution_count": null,
      "outputs": []
    },
    {
      "cell_type": "markdown",
      "source": [
        "Using dynamic programming, you can select the \"Ancient Vase,\" \"Alien Crystal,\" and \"Golden Idol\" for a total value of 31 while staying within the cargo space limit."
      ],
      "metadata": {
        "id": "G98lYn4NuNcR"
      }
    },
    {
      "cell_type": "markdown",
      "source": [
        "**Solution and Justification**\n",
        "\n",
        "You can utilize dynamic programming to overcome this problem. Make a 2D table with rows representing artifacts and columns representing cargo space ranging from 0 to the supplied cargo_space. Fill the table with zeros.\n",
        "\n",
        "Iterate through the artifacts and cargo space, filling in the table with values representing the maximum aggregate value of the objects up to the current cargo space.\n",
        "\n",
        "The recurrence relationship is as follows:\n",
        "\n",
        "dp[i][w] = max(dp[i-1][w], dp[i-1][w - weight[i]] + value[i])\n",
        "\n",
        "Where dp[i][w] represents the maximum combined value for artifacts 1 to i while considering a cargo space limit of w. weight[i] and value[i] are the weight and value of the i-th artifact.\n",
        "\n",
        "The time complexity of this solution is O(N * W), where N is the number of artifacts and W is the cargo space, making it efficient for the given constraints."
      ],
      "metadata": {
        "id": "aSh2KwzLuOK_"
      }
    },
    {
      "cell_type": "code",
      "source": [
        "def max_combined_value(artifacts, cargo_space):\n",
        "    n = len(artifacts)\n",
        "    dp = [[0] * (cargo_space + 1) for _ in range(n + 1)]\n",
        "\n",
        "    for i in range(1, n + 1):\n",
        "        for w in range(cargo_space + 1):\n",
        "            name, value, weight = artifacts[i - 1]\n",
        "            if weight <= w:\n",
        "                dp[i][w] = max(dp[i - 1][w], dp[i - 1][w - weight] + value)\n",
        "            else:\n",
        "                dp[i][w] = dp[i - 1][w]\n",
        "\n",
        "    # Backtrack to find selected artifacts\n",
        "    selected = []\n",
        "    i, w = n, cargo_space\n",
        "    while i > 0 and w > 0:\n",
        "        if dp[i][w] != dp[i - 1][w]:\n",
        "            selected.append(artifacts[i - 1][0])\n",
        "            w -= artifacts[i - 1][2]\n",
        "        i -= 1\n",
        "\n",
        "    return selected\n"
      ],
      "metadata": {
        "id": "qTbyv4lAuYrM"
      },
      "execution_count": 7,
      "outputs": []
    },
    {
      "cell_type": "markdown",
      "source": [
        "\n",
        "\n",
        "While technologies like ChatGPT helped me along the way, it was my own expertise and ingenuity that allowed me to create new problems.\n",
        "Throughout this process, I've learnt that problem creation in the area of algorithms is more than just reusing existing templates; it's also about expanding core principles to create new difficulties. It is an art that entails grasping the fundamental principles of problems, expanding on them, and encouraging problem solvers to think creatively in order to find answers.\n"
      ],
      "metadata": {
        "id": "kP1j0hEwvI3m"
      }
    }
  ]
}